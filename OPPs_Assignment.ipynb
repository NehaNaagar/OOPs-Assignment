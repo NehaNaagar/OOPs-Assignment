{
  "nbformat": 4,
  "nbformat_minor": 0,
  "metadata": {
    "colab": {
      "provenance": []
    },
    "kernelspec": {
      "name": "python3",
      "display_name": "Python 3"
    },
    "language_info": {
      "name": "python"
    }
  },
  "cells": [
    {
      "cell_type": "markdown",
      "source": [
        "1. What is Object-Oriented Programming (OOP)?\n",
        "\n",
        "- Object-Oriented Programming (OOP) is a programming paradigm that revolves around the concept of objects and classes. It emphasizes modularity, reusability, and abstraction.\n",
        "\n"
      ],
      "metadata": {
        "id": "0KN15LCY9oHG"
      }
    },
    {
      "cell_type": "markdown",
      "source": [
        "\n",
        "2. What is a class in OOP?\n",
        "\n",
        "- A class is a blueprint or template that defines the properties and behavior of an object. It's essentially a design pattern or a template that defines the characteristics of an object.\n"
      ],
      "metadata": {
        "id": "6buwgk07Av7j"
      }
    },
    {
      "cell_type": "markdown",
      "source": [
        "3. What is an object in OOP?\n",
        "\n",
        "- An object is an instance of a class, and it represents a real-world entity or concept. Objects have properties (data) and methods (functions) that define their behavior."
      ],
      "metadata": {
        "id": "82llYgszA3Bo"
      }
    },
    {
      "cell_type": "markdown",
      "source": [
        "4. What is the difference between abstraction and encapsulation?\n",
        "\n",
        "- Abstraction is the concept of exposing only the necessary information to the outside world while hiding the implementation details. Encapsulation is the concept of bundling data and methods that operate on that data within a single unit (class or object).\n"
      ],
      "metadata": {
        "id": "bOYmjbkGA_3a"
      }
    },
    {
      "cell_type": "markdown",
      "source": [
        "5. What are dunder methods in Python?\n",
        "\n",
        "- Dunder methods (short for \"double underscore\") are special methods in Python classes that are surrounded by double underscores (e.g., __init__, __str__). They're used for operator overloading, initialization, and other special purposes."
      ],
      "metadata": {
        "id": "GjTpJm_DBFm7"
      }
    },
    {
      "cell_type": "markdown",
      "source": [
        "6. Explain the concept of inheritance in OOP.\n",
        "\n",
        "- Inheritance is the mechanism by which one class can inherit the properties and behavior of another class. The child class inherits all the attributes and methods of the parent class and can also add new attributes and methods or override the ones inherited from the parent class.\n"
      ],
      "metadata": {
        "id": "V453hmjGBLWC"
      }
    },
    {
      "cell_type": "markdown",
      "source": [
        "7. What is polymorphism in OOP?\n",
        "\n",
        "- Polymorphism is the ability of an object to take on multiple forms, depending on the context. This can be achieved through method overloading or method overriding."
      ],
      "metadata": {
        "id": "BF_-YtyXBQ3O"
      }
    },
    {
      "cell_type": "markdown",
      "source": [
        "8. How is encapsulation achieved in Python?\n",
        "\n",
        "- Encapsulation is achieved in Python by using classes and objects. The data and methods are bundled within a class, and the data is hidden from the outside world using access modifiers (e.g., public, private).\n"
      ],
      "metadata": {
        "id": "kahnG8lABVVC"
      }
    },
    {
      "cell_type": "markdown",
      "source": [
        "9. What is a constructor in Python?\n",
        "- A constructor is a special method in Python classes that is called when an object is created. It's used to initialize the attributes of the class.\n"
      ],
      "metadata": {
        "id": "oMfI2Zf9BcDn"
      }
    },
    {
      "cell_type": "markdown",
      "source": [
        "\n",
        "\n",
        "10. What are class and static methods in Python?\n",
        "- Class methods are methods that are bound to the class rather than the instance of the class. Static methods are methods that belong to a class rather than an instance of the class.\n"
      ],
      "metadata": {
        "id": "Wzu_SjGBCBwX"
      }
    },
    {
      "cell_type": "markdown",
      "source": [
        "\n",
        "11. What is method overloading in Python?\n",
        "- Method overloading is a feature that allows multiple methods with the same name to be defined, but with different parameter lists."
      ],
      "metadata": {
        "id": "VI_DDUsOCIjE"
      }
    },
    {
      "cell_type": "markdown",
      "source": [
        "12. What is method overriding in OOP?\n",
        "- Method overriding is a feature that allows a child class to provide a specific implementation for a method that is already defined in its parent class.\n"
      ],
      "metadata": {
        "id": "lcE-ocMTCIv3"
      }
    },
    {
      "cell_type": "markdown",
      "source": [
        "\n",
        "13. What is a property decorator in Python?\n",
        "A property decorator is a special type of decorator in Python that allows a method to be called like an attribute."
      ],
      "metadata": {
        "id": "v6wgKW-uCJJk"
      }
    },
    {
      "cell_type": "markdown",
      "source": [
        "\n",
        "14. Why is polymorphism important in OOP?\n",
        "- Polymorphism is important in OOP because it allows for more flexibility and generic code. It enables objects of different classes to be treated as objects of a common superclass."
      ],
      "metadata": {
        "id": "iWqgF0ChCWsd"
      }
    },
    {
      "cell_type": "markdown",
      "source": [
        "15. What is an abstract class in Python?\n",
        "- An abstract class is a class that cannot be instantiated and is designed to be inherited by other classes. It provides a way to define a blueprint for other classes to follow."
      ],
      "metadata": {
        "id": "zD5g0ywSDIYs"
      }
    },
    {
      "cell_type": "markdown",
      "source": [
        "16. What are the advantages of OOP?\n",
        "- The advantages of OOP include modularity, reusability, abstraction, encapsulation, and polymorphism.\n",
        "\n"
      ],
      "metadata": {
        "id": "x--dQnDEDQWz"
      }
    },
    {
      "cell_type": "markdown",
      "source": [
        "17. What is multiple inheritance in Python?\n",
        "- Multiple inheritance is a feature of Python that allows a class to inherit from multiple parent classes."
      ],
      "metadata": {
        "id": "EVCrKHPjDTNb"
      }
    },
    {
      "cell_type": "markdown",
      "source": [
        "\n",
        "\n",
        "18. What is the difference between a class variable and an instance variable?\n",
        "- A class variable is a variable that is shared by all instances of a class, while an instance variable is a variable that is unique to each instance of a class.\n"
      ],
      "metadata": {
        "id": "Ikw9Os2PDWJY"
      }
    },
    {
      "cell_type": "markdown",
      "source": [
        "\n",
        "19. *Explain the purpose of __str__ and __repr__ methods in Python.*\n",
        "- The __str__ method returns a string representation of an object that is human-readable, while the __repr__ method returns a string representation of an object that is more formal and can be used to recreate the object."
      ],
      "metadata": {
        "id": "PFYOhfbQDZo_"
      }
    },
    {
      "cell_type": "markdown",
      "source": [
        "20. *What is the significance of the super() function in Python?*\n",
        "- The super() function is used to access the methods and properties of a parent class from a child class."
      ],
      "metadata": {
        "id": "aYrThZ-3Dcrf"
      }
    },
    {
      "cell_type": "markdown",
      "source": [
        "\n",
        "\n",
        "21. What is the significance of the __del__ method in Python?\n",
        "- The __del__ method is a special method that is called when an object is about to be destroyed."
      ],
      "metadata": {
        "id": "hqME7UGdDgNT"
      }
    },
    {
      "cell_type": "markdown",
      "source": [
        "22. *What is the difference between @staticmethod and @classmethod in Python?*\n",
        "\n",
        "- @staticmethod is used to define a method that belongs to a class rather than an instance of the class. It doesn't take self or cls as an argument. @classmethod is used to define a method that belongs to a class rather than an instance of the class. It takes cls as an argument, which refers to the class itself.\n",
        "\n"
      ],
      "metadata": {
        "id": "alaR4D_iEGYB"
      }
    },
    {
      "cell_type": "markdown",
      "source": [
        "23. How does polymorphism work in Python with inheritance?\n",
        "- Polymorphism in Python with inheritance works by allowing objects of different classes to be treated as objects of a common superclass. When a subclass inherits from a superclass, it inherits all the attributes and methods of the superclass. The subclass can then override or extend the behavior of the superclass."
      ],
      "metadata": {
        "id": "D9AJpepCEipz"
      }
    },
    {
      "cell_type": "markdown",
      "source": [
        "24. What is method chaining in Python OOP?\n",
        "- Method chaining is a technique in Python OOP where multiple methods are called on an object in a single statement. Each method returns the object itself, allowing the next method to be called."
      ],
      "metadata": {
        "id": "vDIcKz5uEm-u"
      }
    },
    {
      "cell_type": "markdown",
      "source": [
        "25. *What is the purpose of the __call__ method in Python?*\n",
        "- The __call__ method in Python is a special method that allows an object to be called like a function. When the __call__ method is defined in a class, instances of that class can be called like functions.\n",
        "\n",
        "Here's an example of the __call__ method:\n",
        "\n",
        "\n",
        "class MyClass:\n",
        "    def __call__(self):\n",
        "        print(\"Hello, World!\")\n",
        "\n",
        "obj = MyClass()\n",
        "obj()  \n",
        "# Output: Hello, World!"
      ],
      "metadata": {
        "id": "-P-2Djt3EqiJ"
      }
    },
    {
      "cell_type": "code",
      "source": [
        "# 1. Create a parent class Animal with a method speak() that prints a generic message. Create a child class Dog that overrides the speak() method to print \"Bark!\".\n",
        "\n",
        "class Animal:  # Define the Animal class\n",
        "    def speak(self):\n",
        "        print(\"Generic animal sound\")\n",
        "\n",
        "class Dog(Animal):\n",
        "    def speak(self):  # Corrected indentation for the speak method\n",
        "        print(\"Bark!\")\n",
        "\n",
        "dog = Dog()\n",
        "dog.speak()\n",
        "\n"
      ],
      "metadata": {
        "colab": {
          "base_uri": "https://localhost:8080/"
        },
        "id": "BNcOh22mjZzQ",
        "outputId": "02690b0e-9ded-403d-ca55-f02da041693a"
      },
      "execution_count": 31,
      "outputs": [
        {
          "output_type": "stream",
          "name": "stdout",
          "text": [
            "Bark!\n"
          ]
        }
      ]
    },
    {
      "cell_type": "code",
      "source": [
        "# 2. Write a program to create an abstract class Shape with a method area(). Derive classes Circle and Rectangle from it and implement the area() method in both.\n",
        "\n",
        "from abc import ABC, abstractmethod\n",
        "import math\n",
        "\n",
        "class Shape(ABC):\n",
        "    @abstractmethod\n",
        "    def area(self):\n",
        "        pass\n",
        "\n",
        "class Circle(Shape):\n",
        "    def __init__(self, radius):\n",
        "        self.radius = radius\n",
        "\n",
        "    def area(self):\n",
        "        return math.pi * (self.radius ** 2)\n",
        "\n",
        "class Rectangle(Shape):\n",
        "    def __init__(self, length, width):\n",
        "        self.length = length\n",
        "        self.width = width\n",
        "\n",
        "    def area(self):\n",
        "        return self.length * self.width\n",
        "\n",
        "circle = Circle(5)\n",
        "print(circle.area())\n"
      ],
      "metadata": {
        "colab": {
          "base_uri": "https://localhost:8080/"
        },
        "id": "3ZAquhN7qykP",
        "outputId": "2fade270-19d2-475d-cd17-0cde5dc67672"
      },
      "execution_count": 32,
      "outputs": [
        {
          "output_type": "stream",
          "name": "stdout",
          "text": [
            "78.53981633974483\n"
          ]
        }
      ]
    },
    {
      "cell_type": "code",
      "source": [
        "# 3. Implement a multi-level inheritance scenario where a class Vehicle has an attribute type. Derive a class Car and further derive a class ElectricCar that adds a battery attribute.\n",
        "\n",
        "\n",
        "class Vehicle:\n",
        "    def __init__(self, type):\n",
        "        self.type = type\n",
        "\n",
        "class Car(Vehicle):\n",
        "    def __init__(self, type, brand):\n",
        "        super().__init__(type)\n",
        "        self.brand = brand\n",
        "\n",
        "class ElectricCar(Car):\n",
        "    def __init__(self, type, brand, battery_capacity):\n",
        "        super().__init__(type, brand)\n",
        "        self.battery_capacity = battery_capacity\n",
        "\n",
        "electric_car = ElectricCar(\"Car\", \"Tesla\", \"75kWh\")\n",
        "print(electric_car.type)\n",
        "print(electric_car.brand)\n",
        "print(electric_car.battery_capacity)\n",
        "\n"
      ],
      "metadata": {
        "colab": {
          "base_uri": "https://localhost:8080/"
        },
        "id": "8qYa-bzZq4Me",
        "outputId": "dd6901f5-c03d-4313-fed5-d3b194b637db"
      },
      "execution_count": 15,
      "outputs": [
        {
          "output_type": "stream",
          "name": "stdout",
          "text": [
            "Car\n",
            "Tesla\n",
            "75kWh\n"
          ]
        }
      ]
    },
    {
      "cell_type": "code",
      "source": [
        "# 4. Demonstrate polymorphism by creating a base class Bird with a method fly(). Create two derived classes Sparrow and Penguin that override the fly() method.\n",
        "\n",
        "class Bird:\n",
        "    def fly(self):\n",
        "        print(\"Bird is flying\")\n",
        "\n",
        "class Sparrow(Bird):\n",
        "    def fly(self):\n",
        "        print(\"Sparrow is flying fast\")\n",
        "\n",
        "class Penguin(Bird):\n",
        "    def fly(self):\n",
        "        print(\"Penguin cannot fly\")\n",
        "\n",
        "birds = [Sparrow(), Penguin(), Bird()]\n",
        "for bird in birds:\n",
        "    bird.fly()\n",
        "\n",
        "\n"
      ],
      "metadata": {
        "colab": {
          "base_uri": "https://localhost:8080/"
        },
        "id": "6lpaWM4_tYA6",
        "outputId": "7647c5fd-d351-4313-def9-25667c3c5666"
      },
      "execution_count": 16,
      "outputs": [
        {
          "output_type": "stream",
          "name": "stdout",
          "text": [
            "Sparrow is flying fast\n",
            "Penguin cannot fly\n",
            "Bird is flying\n"
          ]
        }
      ]
    },
    {
      "cell_type": "code",
      "source": [
        "# 5. Write a program to demonstrate encapsulation by creating a class BankAccount with private attributes balance and methods to deposit, withdraw, and check balance.\n",
        "\n",
        "\n",
        "class BankAccount:\n",
        "    def __init__(self, balance=0):\n",
        "        self.__balance = balance\n",
        "\n",
        "    def deposit(self, amount):\n",
        "        self.__balance += amount\n",
        "\n",
        "    def withdraw(self, amount):\n",
        "        if amount > self.__balance:\n",
        "            print(\"Insufficient balance\")\n",
        "        else:\n",
        "            self.__balance -= amount\n",
        "\n",
        "    def check_balance(self):\n",
        "        return self.__balance\n",
        "\n",
        "account = BankAccount(1000)\n",
        "account.deposit(500)\n",
        "print(account.check_balance())\n",
        "account.withdraw(200)\n",
        "print(account.check_balance())\n"
      ],
      "metadata": {
        "colab": {
          "base_uri": "https://localhost:8080/"
        },
        "id": "x6zIU6_jtYRu",
        "outputId": "f4bf4a7d-df21-4513-ef75-0327f7951204"
      },
      "execution_count": 17,
      "outputs": [
        {
          "output_type": "stream",
          "name": "stdout",
          "text": [
            "1500\n",
            "1300\n"
          ]
        }
      ]
    },
    {
      "cell_type": "code",
      "source": [
        "# 6. Demonstrate runtime polymorphism using a method play() in a base class Instrument. Derive classes Guitar and Piano that implement their own version of play().\n",
        "\n",
        "class Instrument:\n",
        "    def play(self):\n",
        "        pass\n",
        "\n",
        "class Guitar(Instrument):\n",
        "    def play(self):\n",
        "        print(\"Guitar is playing\")\n",
        "\n",
        "class Piano(Instrument):\n",
        "    def play(self):\n",
        "        print(\"Piano is playing\")\n",
        "\n",
        "instruments = [Guitar(), Piano()]\n",
        "for instrument in instruments:\n",
        "    instrument.play()\n",
        "\n"
      ],
      "metadata": {
        "colab": {
          "base_uri": "https://localhost:8080/"
        },
        "id": "S38djEeXtYVF",
        "outputId": "60fea49a-60c4-4f11-bc54-4e72ceb79656"
      },
      "execution_count": 18,
      "outputs": [
        {
          "output_type": "stream",
          "name": "stdout",
          "text": [
            "Guitar is playing\n",
            "Piano is playing\n"
          ]
        }
      ]
    },
    {
      "cell_type": "code",
      "source": [
        "# 7. Create a class MathOperations with a class method add_numbers() to add two numbers and a static method subtract_numbers() to subtract two numbers.\n",
        "\n",
        "class MathOperations:\n",
        "    @classmethod\n",
        "    def add_numbers(cls, num1, num2):\n",
        "        return num1 + num2\n",
        "\n",
        "    @staticmethod\n",
        "    def subtract_numbers(num1, num2):\n",
        "        return num1 - num2\n",
        "\n",
        "print(MathOperations.add_numbers(5, 3))\n",
        "print(MathOperations.subtract_numbers(5, 3))\n",
        "\n",
        "\n"
      ],
      "metadata": {
        "colab": {
          "base_uri": "https://localhost:8080/"
        },
        "id": "dkyZDeTctYZq",
        "outputId": "56267239-a39e-48be-b025-300ac8c6b968"
      },
      "execution_count": 19,
      "outputs": [
        {
          "output_type": "stream",
          "name": "stdout",
          "text": [
            "8\n",
            "2\n"
          ]
        }
      ]
    },
    {
      "cell_type": "code",
      "source": [
        "# 8. Implement a class Person with a class method to count the total number of persons created\n",
        "\n",
        "class Person:\n",
        "    count = 0\n",
        "\n",
        "    def __init__(self, name):\n",
        "        self.name = name\n",
        "        Person.count += 1\n",
        "\n",
        "    @classmethod\n",
        "    def get_count(cls):\n",
        "        return cls.count\n",
        "\n",
        "person1 = Person(\"John\")\n",
        "person2 = Person(\"Alice\")\n",
        "print(Person.get_count())\n",
        "\n"
      ],
      "metadata": {
        "colab": {
          "base_uri": "https://localhost:8080/"
        },
        "id": "x_XpfrP6tYc_",
        "outputId": "d6dbc1de-56c6-4b9b-fdf5-89ec2a0b7d70"
      },
      "execution_count": 20,
      "outputs": [
        {
          "output_type": "stream",
          "name": "stdout",
          "text": [
            "2\n"
          ]
        }
      ]
    },
    {
      "cell_type": "code",
      "source": [
        "# 9. Write a class Fraction with attributes numerator and denominator. Override the str method to display the fraction as \"numerator/denominator\".\n",
        "\n",
        "class Fraction:\n",
        "    def __init__(self, numerator, denominator):\n",
        "        self.numerator = numerator\n",
        "        self.denominator = denominator\n",
        "\n",
        "    def __str__(self):\n",
        "        return f\"{self.numerator}/{self.denominator}\"\n",
        "\n",
        "fraction = Fraction(1, 2)\n",
        "print(fraction)"
      ],
      "metadata": {
        "colab": {
          "base_uri": "https://localhost:8080/"
        },
        "id": "Po_WCDxoti15",
        "outputId": "fe89edd1-bf82-4650-ee98-880a21561694"
      },
      "execution_count": 21,
      "outputs": [
        {
          "output_type": "stream",
          "name": "stdout",
          "text": [
            "1/2\n"
          ]
        }
      ]
    },
    {
      "cell_type": "code",
      "source": [
        "# 10. Demonstrate operator overloading by creating a class Vector and overriding the add method to add two vectors.\n",
        "\n",
        "class Vector:\n",
        "    def __init__(self, x, y):\n",
        "        self.x = x\n",
        "        self.y = y\n",
        "\n",
        "    def __add__(self, other):\n",
        "        return Vector(self.x + other.x, self.y + other.y)\n",
        "\n",
        "    def __str__(self):\n",
        "        return f\"({self.x}, {self.y})\"\n",
        "\n",
        "vector1 = Vector(2, 3)\n",
        "vector2 = Vector(4, 5)\n",
        "vector3 = vector1 + vector2\n",
        "print(vector3)\n"
      ],
      "metadata": {
        "colab": {
          "base_uri": "https://localhost:8080/"
        },
        "id": "hT-E2KnCti4W",
        "outputId": "dc80eae9-a86d-4eef-84ae-8318c5092504"
      },
      "execution_count": 22,
      "outputs": [
        {
          "output_type": "stream",
          "name": "stdout",
          "text": [
            "(6, 8)\n"
          ]
        }
      ]
    },
    {
      "cell_type": "code",
      "source": [
        "# 11.  Create a class Person with attributes name and age. Add a method greet() that prints \"Hello, my name is {name} and I am {age} years old.\"\n",
        "\n",
        "class Person:\n",
        "    def __init__(self, name, age):\n",
        "        self.name = name\n",
        "        self.age = age\n",
        "\n",
        "    def greet(self):\n",
        "        print(f\"Hello, my name is {self.name} and I am {self.age} years old.\")\n",
        "\n",
        "person = Person(\"John\", 30)\n",
        "person.greet()\n"
      ],
      "metadata": {
        "colab": {
          "base_uri": "https://localhost:8080/"
        },
        "id": "Bgioc_zhti61",
        "outputId": "d863a398-1109-4b79-a523-b96fca6e6d29"
      },
      "execution_count": 23,
      "outputs": [
        {
          "output_type": "stream",
          "name": "stdout",
          "text": [
            "Hello, my name is John and I am 30 years old.\n"
          ]
        }
      ]
    },
    {
      "cell_type": "code",
      "source": [
        "# 12. Implement a class Student with attributes name and grades. Create a method average_grade() to compute the average of the grades.\n",
        "\n",
        "class Student:\n",
        "    def __init__(self, name, grades):\n",
        "        self.name = name\n",
        "        self.grades = grades\n",
        "\n",
        "    def average_grade(self):\n",
        "        return sum(self.grades) / len(self.grades)\n",
        "\n",
        "student = Student(\"Alice\", [90, 85, 95])\n",
        "print(student.average_grade())\n"
      ],
      "metadata": {
        "colab": {
          "base_uri": "https://localhost:8080/"
        },
        "id": "agls2GDBti9H",
        "outputId": "0c727445-5b0a-4e33-85f0-ea86448a63da"
      },
      "execution_count": 24,
      "outputs": [
        {
          "output_type": "stream",
          "name": "stdout",
          "text": [
            "90.0\n"
          ]
        }
      ]
    },
    {
      "cell_type": "code",
      "source": [
        "# 13. Create a class Rectangle with methods set_dimensions() to set the dimensions and area() to calculate the area.\n",
        "\n",
        "class Rectangle:\n",
        "    def __init__(self):\n",
        "        self.length = 0\n",
        "        self.width = 0\n",
        "\n",
        "    def set_dimensions(self, length, width):\n",
        "        self.length = length\n",
        "        self.width = width\n",
        "\n",
        "    def area(self):\n",
        "        return self.length * self.width\n",
        "\n",
        "rectangle = Rectangle()\n",
        "rectangle.set_dimensions(4, 6)\n",
        "print(rectangle.area())"
      ],
      "metadata": {
        "colab": {
          "base_uri": "https://localhost:8080/"
        },
        "id": "Kv3moctqti_q",
        "outputId": "055e1213-ae84-4e21-9558-eb35c40c819a"
      },
      "execution_count": 25,
      "outputs": [
        {
          "output_type": "stream",
          "name": "stdout",
          "text": [
            "24\n"
          ]
        }
      ]
    },
    {
      "cell_type": "code",
      "source": [
        "# 14. Create a class Employee with a method calculate_salary() that computes the salary based on hours worked and hourly rate. Create a derived class Manager that adds a bonus to the salary.\n",
        "\n",
        "class Employee:\n",
        "    def __init__(self, name, hours_worked, hourly_rate):\n",
        "        self.name = name\n",
        "        self.hours_worked = hours_worked\n",
        "        self.hourly_rate = hourly_rate\n",
        "\n",
        "    def calculate_salary(self):\n",
        "        return self.hours_worked * self.hourly_rate\n",
        "\n",
        "class Manager(Employee):\n",
        "    def __init__(self, name, hours_worked, hourly_rate, bonus):\n",
        "        super().__init__(name, hours_worked, hourly_rate)\n",
        "        self.bonus = bonus\n",
        "\n",
        "    def calculate_salary(self):\n",
        "        return super().calculate_salary() + self.bonus\n",
        "\n",
        "manager = Manager(\"John\", 40, 50, 1000)\n",
        "print(manager.calculate_salary())"
      ],
      "metadata": {
        "colab": {
          "base_uri": "https://localhost:8080/"
        },
        "id": "HGuOsWlftjBz",
        "outputId": "19600013-ebba-44c6-fc07-b87818f921df"
      },
      "execution_count": 26,
      "outputs": [
        {
          "output_type": "stream",
          "name": "stdout",
          "text": [
            "3000\n"
          ]
        }
      ]
    },
    {
      "cell_type": "code",
      "source": [
        "# 15. Create a class Product with attributes name, price, and quantity. Implement a method total_price() that calculates the total price of the product.\n",
        "\n",
        "class Product:\n",
        "    def __init__(self, name, price, quantity):\n",
        "        self.name = name\n",
        "        self.price = price\n",
        "        self.quantity = quantity\n",
        "\n",
        "    def total_price(self):\n",
        "        return self.price * self.quantity\n",
        "\n",
        "product = Product(\"Laptop\", 1000, 2)\n",
        "print(product.total_price())\n",
        "\n"
      ],
      "metadata": {
        "colab": {
          "base_uri": "https://localhost:8080/"
        },
        "id": "Yxsc6BxStjFK",
        "outputId": "c671aa29-efea-4476-9de4-c1623ef26f91"
      },
      "execution_count": 27,
      "outputs": [
        {
          "output_type": "stream",
          "name": "stdout",
          "text": [
            "2000\n"
          ]
        }
      ]
    },
    {
      "cell_type": "code",
      "source": [
        "# 16. Create a class Animal with an abstract method sound(). Create two derived classes Cow and Sheep that implement the sound() method.\n",
        "\n",
        "from abc import ABC, abstractmethod\n",
        "\n",
        "class Animal(ABC):\n",
        "    @abstractmethod\n",
        "    def sound(self):\n",
        "        pass\n",
        "\n",
        "class Cow(Animal):\n",
        "    def sound(self):\n",
        "        return \"Moo!\"\n",
        "\n",
        "class Sheep(Animal):\n",
        "    def sound(self):\n",
        "        return \"Baa!\"\n",
        "\n",
        "cow = Cow()\n",
        "print(cow.sound())\n",
        "\n",
        "sheep = Sheep()\n",
        "print(sheep.sound())\n"
      ],
      "metadata": {
        "colab": {
          "base_uri": "https://localhost:8080/"
        },
        "id": "i_TLVyE3xiee",
        "outputId": "2add35dc-1665-4281-8210-4d60c9858831"
      },
      "execution_count": 28,
      "outputs": [
        {
          "output_type": "stream",
          "name": "stdout",
          "text": [
            "Moo!\n",
            "Baa!\n"
          ]
        }
      ]
    },
    {
      "cell_type": "code",
      "source": [
        "# 17. Create a class Book with attributes title, author, and year_published. Add a method get_book_info() that returns a formatted string with the book's details.\n",
        "\n",
        "class Book:\n",
        "    def __init__(self, title, author, year_published):\n",
        "        self.title = title\n",
        "        self.author = author\n",
        "        self.year_published = year_published\n",
        "\n",
        "    def get_book_info(self):\n",
        "        return f\"{self.title} by {self.author}, published in {self.year_published}\"\n",
        "\n",
        "book = Book(\"To Kill a Mockingbird\", \"Harper Lee\", 1960)\n",
        "print(book.get_book_info())\n"
      ],
      "metadata": {
        "colab": {
          "base_uri": "https://localhost:8080/"
        },
        "id": "1u1-bXc9xihm",
        "outputId": "1327b8c0-db4d-4159-a9f9-df1df61e860e"
      },
      "execution_count": 29,
      "outputs": [
        {
          "output_type": "stream",
          "name": "stdout",
          "text": [
            "To Kill a Mockingbird by Harper Lee, published in 1960\n"
          ]
        }
      ]
    },
    {
      "cell_type": "code",
      "source": [
        "# 18. Create a class House with attributes address and price. Create a derived class Mansion that adds an attribute number_of_rooms.\n",
        "\n",
        "class House:\n",
        "    def __init__(self, address, price):\n",
        "        self.address = address\n",
        "        self.price = price\n",
        "\n",
        "class Mansion(House):\n",
        "    def __init__(self, address, price, number_of_rooms):\n",
        "        super().__init__(address, price)\n",
        "        self.number_of_rooms = number_of_rooms\n",
        "\n",
        "mansion = Mansion(\"123 Main St\", 1000000, 10)\n",
        "print(mansion.address)\n",
        "print(mansion.price)\n",
        "print(mansion.number_of_rooms)\n"
      ],
      "metadata": {
        "colab": {
          "base_uri": "https://localhost:8080/"
        },
        "id": "rl5B8t4bxik8",
        "outputId": "104ad70c-47f0-4d54-db22-813f9c1eaec4"
      },
      "execution_count": 30,
      "outputs": [
        {
          "output_type": "stream",
          "name": "stdout",
          "text": [
            "123 Main St\n",
            "1000000\n",
            "10\n"
          ]
        }
      ]
    }
  ]
}